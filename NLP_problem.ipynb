{
 "cells": [
  {
   "cell_type": "code",
   "execution_count": 7,
   "metadata": {},
   "outputs": [
    {
     "name": "stdout",
     "output_type": "stream",
     "text": [
      "CPU times: user 53 µs, sys: 1e+03 ns, total: 54 µs\n",
      "Wall time: 57.2 µs\n"
     ]
    }
   ],
   "source": [
    "%%time \n",
    "from __future__ import division, print_function, absolute_import\n",
    "import numpy as np\n",
    "import tensorflow as tf\n",
    "import tflearn\n",
    "import wordninja # an elegant way for words extraction\n",
    "from keras.preprocessing.text import one_hot\n",
    "from keras.preprocessing.text import Tokenizer\n",
    "import keras.preprocessing.text\n",
    "from sklearn.metrics import accuracy_score #accuracy calculator \n",
    "from sklearn.model_selection import train_test_split\n",
    "from tflearn.layers.core import input_data, dropout, fully_connected\n",
    "from tflearn.layers.conv import conv_1d, global_max_pool\n",
    "from tflearn.layers.merge_ops import merge\n",
    "from tflearn.layers.estimator import regression\n",
    "from tflearn.data_utils import to_categorical, pad_sequences\n",
    "from tflearn.layers.core import input_data, dropout, fully_connected\n",
    "from tflearn.layers.embedding_ops import embedding\n",
    "from tflearn.layers.recurrent import bidirectional_rnn, BasicLSTMCell\n",
    "from tflearn.layers.estimator import regression\n",
    "\n",
    "\n"
   ]
  },
  {
   "cell_type": "code",
   "execution_count": null,
   "metadata": {
    "collapsed": true
   },
   "outputs": [],
   "source": []
  },
  {
   "cell_type": "markdown",
   "metadata": {},
   "source": [
    "## **The Task**\n",
    "\n",
    "to learn a Machine Learning model that classifies a given line as belonging to one of the following 12 novels:\n",
    "\n",
    "- alice_in_wonderland\n",
    "- dracula\n",
    "- dubliners\n",
    "- great_expectations\n",
    "\n",
    "And more... \n",
    "\n",
    "Basically, a classification NLP problem."
   ]
  },
  {
   "cell_type": "markdown",
   "metadata": {},
   "source": [
    "### Load files\n",
    "Possible to load with pandas or numpy packages too."
   ]
  },
  {
   "cell_type": "code",
   "execution_count": 8,
   "metadata": {
    "collapsed": true
   },
   "outputs": [],
   "source": [
    "X = open(\"xtrain.txt\").read().splitlines()\n",
    "y = open(\"ytrain.txt\").read().splitlines()\n"
   ]
  },
  {
   "cell_type": "code",
   "execution_count": 9,
   "metadata": {},
   "outputs": [
    {
     "data": {
      "text/plain": [
       "(32732, 32732)"
      ]
     },
     "execution_count": 9,
     "metadata": {},
     "output_type": "execute_result"
    }
   ],
   "source": [
    "len(X), len(y)"
   ]
  },
  {
   "cell_type": "markdown",
   "metadata": {},
   "source": [
    "- First, **extract validation data**, in order to check how your model predict on unseen data"
   ]
  },
  {
   "cell_type": "code",
   "execution_count": 10,
   "metadata": {},
   "outputs": [
    {
     "data": {
      "text/plain": [
       "(1732, 31000, 1732, 31000)"
      ]
     },
     "execution_count": 10,
     "metadata": {},
     "output_type": "execute_result"
    }
   ],
   "source": [
    "x_valid = X[31000:]\n",
    "X = X[:31000]\n",
    "y_valid = y[31000:]\n",
    "y = y[:31000]\n",
    "len(x_valid), len(X), len(y_valid), len(y)"
   ]
  },
  {
   "cell_type": "markdown",
   "metadata": {},
   "source": [
    "Split list into random train and test subsets"
   ]
  },
  {
   "cell_type": "code",
   "execution_count": 11,
   "metadata": {},
   "outputs": [],
   "source": [
    "\n",
    "X_train, X_test, y_train, y_test = train_test_split(X, y, test_size=0.2, random_state=12345)\n"
   ]
  },
  {
   "cell_type": "code",
   "execution_count": 12,
   "metadata": {},
   "outputs": [
    {
     "data": {
      "text/plain": [
       "(24800, 6200, 24800, 6200)"
      ]
     },
     "execution_count": 12,
     "metadata": {},
     "output_type": "execute_result"
    }
   ],
   "source": [
    "len(X_train),len(X_test),len(y_train),len(y_test)"
   ]
  },
  {
   "cell_type": "code",
   "execution_count": 13,
   "metadata": {},
   "outputs": [],
   "source": [
    "#convert str -> int \n",
    "y_train = list(map(int, y_train))\n",
    "y_test = list(map(int, y_test))\n",
    "y_valid = list(map(int, y_valid))"
   ]
  },
  {
   "cell_type": "markdown",
   "metadata": {},
   "source": [
    "## Word extraction \n",
    "Using wordninja extracting words from string in the data "
   ]
  },
  {
   "cell_type": "code",
   "execution_count": 15,
   "metadata": {},
   "outputs": [
    {
     "name": "stdout",
     "output_type": "stream",
     "text": [
      "CPU times: user 1min 43s, sys: 805 ms, total: 1min 44s\n",
      "Wall time: 1min 50s\n"
     ]
    }
   ],
   "source": [
    "%%time\n",
    "xtrain_ext = []\n",
    "for line in X_train:\n",
    "    temp_list = wordninja.split(line)\n",
    "    #removing \"noisy\" words\n",
    "    temp_list = [x for x in temp_list if len(x) > 2]\n",
    "    xtrain_ext.append(temp_list)\n",
    "    \n",
    "xtest_ext = []\n",
    "for line in X_test:\n",
    "    temp_list = wordninja.split(line)\n",
    "    #removing \"noisy\" words \n",
    "    temp_list = [x for x in temp_list if len(x) > 2]\n",
    "    xtest_ext.append(temp_list)\n",
    "\n",
    "xvalid_ext = []\n",
    "for line in x_valid:\n",
    "    temp_list = wordninja.split(line)\n",
    "    #removing \"noisy\" words\n",
    "    temp_list = [x for x in temp_list if len(x) > 2]\n",
    "    xvalid_ext.append(temp_list)"
   ]
  },
  {
   "cell_type": "code",
   "execution_count": 23,
   "metadata": {},
   "outputs": [
    {
     "data": {
      "text/plain": [
       "('before',\n",
       " 'andfortwenty-fiveyearsshehadkepthouseshrewdlyforherhusband.hertwoeldestsonswerelaunched.onewasinadraper’sshopinglasgowandtheotherwasclerktoatea-merchantinbelfast.theywere',\n",
       " 'after',\n",
       " ['and',\n",
       "  'for',\n",
       "  'twenty',\n",
       "  'five',\n",
       "  'years',\n",
       "  'she',\n",
       "  'had',\n",
       "  'kept',\n",
       "  'house',\n",
       "  'shrewdly',\n",
       "  'for',\n",
       "  'her',\n",
       "  'husband',\n",
       "  'her',\n",
       "  'two',\n",
       "  'eldest',\n",
       "  'sons',\n",
       "  'were',\n",
       "  'launched',\n",
       "  'one',\n",
       "  'was',\n",
       "  'draper',\n",
       "  'shop',\n",
       "  'glasgow',\n",
       "  'and',\n",
       "  'the',\n",
       "  'other',\n",
       "  'was',\n",
       "  'clerk',\n",
       "  'tea',\n",
       "  'merchant',\n",
       "  'belfast',\n",
       "  'they',\n",
       "  'were'])"
      ]
     },
     "execution_count": 23,
     "metadata": {},
     "output_type": "execute_result"
    }
   ],
   "source": [
    "\"before\", X_train[1111], \"after\", xtrain_ext[1111]"
   ]
  },
  {
   "cell_type": "markdown",
   "metadata": {},
   "source": [
    "## Text Preprocessing "
   ]
  },
  {
   "cell_type": "code",
   "execution_count": 135,
   "metadata": {
    "collapsed": true
   },
   "outputs": [],
   "source": [
    "tk = Tokenizer(num_words=None, char_level = True, lower=True)\n",
    "tk.fit_on_texts(xtrain_ext)\n",
    "x_train = tk.texts_to_sequences(xtrain_ext)\n",
    "x_test = tk.texts_to_sequences(xtest_ext)\n",
    "x_valid = tk.texts_to_sequences(xvalid_ext)\n"
   ]
  },
  {
   "cell_type": "markdown",
   "metadata": {},
   "source": [
    "# Models"
   ]
  },
  {
   "cell_type": "markdown",
   "metadata": {},
   "source": [
    "I should explain why I've chosen the TFlearn package; the main reason is I **like** it, second TFlearn is more tensorflow related then f.e. Keras or Mxnet. Next, it provides top-level abstraction; it's simple and fairly robust and understandable. Important, using high-level abstraction is more error prone when using low level (pure TensorFlow). \n",
    "\n",
    "\n",
    "The one thing which is not yet implemented in TFlearn is Learning Rate Scheduler; I'm even thinking to contribute to the package because it is must want feature for ADAM optimizer. \n",
    "\n",
    "\n",
    "Anyway, everything bellow can be easily implemented in Keras or Mxnet. "
   ]
  },
  {
   "cell_type": "markdown",
   "metadata": {},
   "source": [
    "### The idea "
   ]
  },
  {
   "cell_type": "markdown",
   "metadata": {},
   "source": [
    "For the final solution, I've decided to use two models and then take the average predictions from both. Most likely the result would be even higher from combining more models.   "
   ]
  },
  {
   "cell_type": "markdown",
   "metadata": {},
   "source": [
    "## Data preparation \n",
    "\n"
   ]
  },
  {
   "cell_type": "code",
   "execution_count": 194,
   "metadata": {
    "collapsed": true
   },
   "outputs": [],
   "source": [
    "# Data preprocessing\n",
    "# Find maximum maxlen for padding \n",
    "maxlen = len(max(x_test,key=len))\n",
    "# Sequence padding\n",
    "trainX = pad_sequences(x_train, maxlen=maxlen, value=0.)\n",
    "testX = pad_sequences(x_test, maxlen=maxlen, value=0.)\n",
    "# Converting labels to binary vectors\n",
    "trainY = to_categorical(y_train, nb_classes=12)\n",
    "testY = to_categorical(y_test, nb_classes=12)"
   ]
  },
  {
   "cell_type": "markdown",
   "metadata": {},
   "source": [
    "### 1st Model"
   ]
  },
  {
   "cell_type": "markdown",
   "metadata": {},
   "source": [
    "For the first model, I've used bidirectional RNN with LSTM cells. "
   ]
  },
  {
   "cell_type": "code",
   "execution_count": 205,
   "metadata": {},
   "outputs": [
    {
     "name": "stdout",
     "output_type": "stream",
     "text": [
      "Training Step: 874  | total loss: \u001b[1m\u001b[32m0.24668\u001b[0m\u001b[0m | time: 154.996s\n",
      "| Adam | epoch: 005 | loss: 0.24668 - acc: 0.9362 -- iter: 22272/22320\n",
      "Training Step: 875  | total loss: \u001b[1m\u001b[32m0.23942\u001b[0m\u001b[0m | time: 160.379s\n",
      "| Adam | epoch: 005 | loss: 0.23942 - acc: 0.9371 | val_loss: 1.11400 - val_acc: 0.7085 -- iter: 22320/22320\n",
      "--\n"
     ]
    }
   ],
   "source": [
    "tf.reset_default_graph() # you have to reset\n",
    "\n",
    "net = input_data(shape=[None, 40])\n",
    "net = embedding(net, input_dim=60000, output_dim=256)\n",
    "net = bidirectional_rnn(net, BasicLSTMCell(256), BasicLSTMCell(256))\n",
    "net = dropout(net, 0.5) #kick overfitting \n",
    "net = fully_connected(net, 12, activation='softmax')\n",
    "net = regression(net, learning_rate=0.001, optimizer='adam', loss='categorical_crossentropy')\n",
    "\n",
    "# Training\n",
    "model_lstm = tflearn.DNN(net)\n",
    "\n",
    "model_lstm.fit(trainX, trainY, validation_set=(testX, testY), show_metric=True, batch_size=128, n_epoch = 5,\n",
    "              )"
   ]
  },
  {
   "cell_type": "markdown",
   "metadata": {},
   "source": [
    "### 2nd Model"
   ]
  },
  {
   "cell_type": "markdown",
   "metadata": {},
   "source": [
    "For the second model I've decided to use a bunch of convolution networks. "
   ]
  },
  {
   "cell_type": "code",
   "execution_count": 208,
   "metadata": {},
   "outputs": [
    {
     "name": "stdout",
     "output_type": "stream",
     "text": [
      "Training Step: 5424  | total loss: \u001b[1m\u001b[32m0.08348\u001b[0m\u001b[0m | time: 288.334s\n",
      "| Adam | epoch: 007 | loss: 0.08348 - acc: 0.9801 -- iter: 24768/24800\n",
      "Training Step: 5425  | total loss: \u001b[1m\u001b[32m0.08006\u001b[0m\u001b[0m | time: 297.749s\n",
      "| Adam | epoch: 007 | loss: 0.08006 - acc: 0.9821 | val_loss: 0.97496 - val_acc: 0.7524 -- iter: 24800/24800\n",
      "--\n"
     ]
    }
   ],
   "source": [
    "tf.reset_default_graph()\n",
    "\n",
    "network = input_data(shape=[None, 40], name='input')\n",
    "# Building convolution network\n",
    "network = tflearn.embedding(network, input_dim=60000, output_dim=200)\n",
    "branch1 = conv_1d(network, 200, 3, padding='valid', activation='relu', regularizer=\"L2\")\n",
    "branch2 = conv_1d(network, 200, 4, padding='valid', activation='relu', regularizer=\"L2\")\n",
    "branch3 = conv_1d(network, 200, 5, padding='valid', activation='relu', regularizer=\"L2\")\n",
    "branch4 = conv_1d(network, 200, 6, padding='valid', activation='relu', regularizer=\"L2\")\n",
    "network = merge([branch1, branch2, branch3, branch4], mode='concat', axis=1)\n",
    "network = tf.expand_dims(network, 2)\n",
    "network = global_max_pool(network)\n",
    "network = dropout(network, 0.5)\n",
    "network = fully_connected(network, 12, activation='softmax')\n",
    "network = regression(network, optimizer='adam', learning_rate=0.001,\n",
    "                     loss='categorical_crossentropy', name='target')\n",
    "# Training\n",
    "model = tflearn.DNN(network)\n",
    "model.fit(trainX, trainY, n_epoch = 7, shuffle=True, \n",
    "          validation_set=(testX, testY), show_metric=True, batch_size=32)"
   ]
  },
  {
   "cell_type": "code",
   "execution_count": null,
   "metadata": {
    "collapsed": true
   },
   "outputs": [],
   "source": [
    "xvalid_ext = tk.texts_to_sequences(xvalid_ext)\n",
    "xvalid_ext = pad_sequences(xvalid_ext, maxlen=40, value=0.)\n",
    "xvalid_ext[22]"
   ]
  },
  {
   "cell_type": "markdown",
   "metadata": {},
   "source": [
    " - Verify the LSTM model:"
   ]
  },
  {
   "cell_type": "code",
   "execution_count": 206,
   "metadata": {},
   "outputs": [],
   "source": [
    "x_valid_pred = np.argmax(model_lstm.predict(xvalid_ext),axis=1)"
   ]
  },
  {
   "cell_type": "code",
   "execution_count": 207,
   "metadata": {},
   "outputs": [
    {
     "data": {
      "text/plain": [
       "0.7176674364896074"
      ]
     },
     "execution_count": 207,
     "metadata": {},
     "output_type": "execute_result"
    }
   ],
   "source": [
    "accuracy_score(x_valid_pred, y_valid)"
   ]
  },
  {
   "cell_type": "markdown",
   "metadata": {},
   "source": [
    " - Verify the Convolution model:"
   ]
  },
  {
   "cell_type": "code",
   "execution_count": 209,
   "metadata": {
    "collapsed": true
   },
   "outputs": [],
   "source": [
    "x_valid_pred = np.argmax(model.predict(xvalid_ext),axis=1)"
   ]
  },
  {
   "cell_type": "code",
   "execution_count": 210,
   "metadata": {},
   "outputs": [
    {
     "data": {
      "text/plain": [
       "0.75"
      ]
     },
     "execution_count": 210,
     "metadata": {},
     "output_type": "execute_result"
    }
   ],
   "source": [
    "accuracy_score(x_valid_pred, y_valid)"
   ]
  },
  {
   "cell_type": "markdown",
   "metadata": {},
   "source": [
    "### Stacking "
   ]
  },
  {
   "cell_type": "code",
   "execution_count": 211,
   "metadata": {
    "collapsed": true
   },
   "outputs": [],
   "source": [
    "stck = (np.array(model_lstm.predict(xvalid_ext)) + np.array(model.predict(xvalid_ext)))/2"
   ]
  },
  {
   "cell_type": "code",
   "execution_count": 215,
   "metadata": {},
   "outputs": [
    {
     "data": {
      "text/plain": [
       "0.77598152424942268"
      ]
     },
     "execution_count": 215,
     "metadata": {},
     "output_type": "execute_result"
    }
   ],
   "source": [
    "accuracy_score(np.argmax(stck,axis=1),y_valid)"
   ]
  },
  {
   "cell_type": "markdown",
   "metadata": {},
   "source": [
    "## Final predictions"
   ]
  },
  {
   "cell_type": "code",
   "execution_count": 226,
   "metadata": {
    "collapsed": true
   },
   "outputs": [],
   "source": [
    "X_test = open(\"xtest.txt\").read().splitlines()\n",
    "xtest_ext = []\n",
    "for line in X_test:\n",
    "    temp_list = wordninja.split(line)\n",
    "    #removing \"noisy\" words \n",
    "    temp_list = [x for x in temp_list if len(x) > 2]\n",
    "    xtest_ext.append(temp_list)\n",
    "x_test = tk.texts_to_sequences(xtest_ext)\n",
    "testX = pad_sequences(x_test, maxlen=maxlen, value=0.)\n",
    "stck = (np.array(model_lstm.predict(testX)) + np.array(model.predict(testX)))/2"
   ]
  },
  {
   "cell_type": "code",
   "execution_count": 228,
   "metadata": {
    "collapsed": true
   },
   "outputs": [],
   "source": [
    "submit = np.argmax(stck,axis=1)"
   ]
  },
  {
   "cell_type": "code",
   "execution_count": 242,
   "metadata": {
    "collapsed": true
   },
   "outputs": [],
   "source": [
    "with open('submit.txt', 'w') as thefile:\n",
    "    for item in submit:\n",
    "        thefile.write(\"%i\\n\" % item)"
   ]
  },
  {
   "cell_type": "markdown",
   "metadata": {},
   "source": [
    "# Conclusion:\n",
    "\n",
    "The score for the validation set (unseed train data) is about 0.78, it can be imporved by using this ways:\n",
    "- use chars for tokenization;\n",
    "- use more (bigger) models;\n",
    "- avoid overfitting;\n",
    "- try SVM."
   ]
  },
  {
   "cell_type": "code",
   "execution_count": null,
   "metadata": {
    "collapsed": true
   },
   "outputs": [],
   "source": []
  }
 ],
 "metadata": {
  "kernelspec": {
   "display_name": "Python 3",
   "language": "python",
   "name": "python3"
  },
  "language_info": {
   "codemirror_mode": {
    "name": "ipython",
    "version": 3
   },
   "file_extension": ".py",
   "mimetype": "text/x-python",
   "name": "python",
   "nbconvert_exporter": "python",
   "pygments_lexer": "ipython3",
   "version": "3.6.1"
  }
 },
 "nbformat": 4,
 "nbformat_minor": 2
}
